{
  "cells": [
    {
      "cell_type": "code",
      "execution_count": 1,
      "metadata": {
        "id": "R7yTkPqVoIIs"
      },
      "outputs": [],
      "source": [
        "import pandas as pd\n",
        "import numpy as np\n",
        "import tensorflow as tf"
      ]
    },
    {
      "cell_type": "code",
      "execution_count": 2,
      "metadata": {
        "colab": {
          "base_uri": "https://localhost:8080/",
          "height": 311
        },
        "id": "HvVDdIB4oMaP",
        "outputId": "51ce8a1f-64d8-4431-8a02-2bf69c6542f9"
      },
      "outputs": [
        {
          "data": {
            "text/html": [
              "<div>\n",
              "<style scoped>\n",
              "    .dataframe tbody tr th:only-of-type {\n",
              "        vertical-align: middle;\n",
              "    }\n",
              "\n",
              "    .dataframe tbody tr th {\n",
              "        vertical-align: top;\n",
              "    }\n",
              "\n",
              "    .dataframe thead th {\n",
              "        text-align: right;\n",
              "    }\n",
              "</style>\n",
              "<table border=\"1\" class=\"dataframe\">\n",
              "  <thead>\n",
              "    <tr style=\"text-align: right;\">\n",
              "      <th></th>\n",
              "      <th>#AUTHID</th>\n",
              "      <th>TEXT</th>\n",
              "      <th>cEXT</th>\n",
              "      <th>cNEU</th>\n",
              "      <th>cAGR</th>\n",
              "      <th>cCON</th>\n",
              "      <th>cOPN</th>\n",
              "    </tr>\n",
              "  </thead>\n",
              "  <tbody>\n",
              "    <tr>\n",
              "      <th>0</th>\n",
              "      <td>1997_504851.txt</td>\n",
              "      <td>Well, right now I just woke up from a mid-day ...</td>\n",
              "      <td>n</td>\n",
              "      <td>y</td>\n",
              "      <td>y</td>\n",
              "      <td>n</td>\n",
              "      <td>y</td>\n",
              "    </tr>\n",
              "    <tr>\n",
              "      <th>1</th>\n",
              "      <td>1997_605191.txt</td>\n",
              "      <td>Well, here we go with the stream of consciousn...</td>\n",
              "      <td>n</td>\n",
              "      <td>n</td>\n",
              "      <td>y</td>\n",
              "      <td>n</td>\n",
              "      <td>n</td>\n",
              "    </tr>\n",
              "    <tr>\n",
              "      <th>2</th>\n",
              "      <td>1997_687252.txt</td>\n",
              "      <td>An open keyboard and buttons to push. The thin...</td>\n",
              "      <td>n</td>\n",
              "      <td>y</td>\n",
              "      <td>n</td>\n",
              "      <td>y</td>\n",
              "      <td>y</td>\n",
              "    </tr>\n",
              "    <tr>\n",
              "      <th>3</th>\n",
              "      <td>1997_568848.txt</td>\n",
              "      <td>I can't believe it!  It's really happening!  M...</td>\n",
              "      <td>y</td>\n",
              "      <td>n</td>\n",
              "      <td>y</td>\n",
              "      <td>y</td>\n",
              "      <td>n</td>\n",
              "    </tr>\n",
              "    <tr>\n",
              "      <th>4</th>\n",
              "      <td>1997_688160.txt</td>\n",
              "      <td>Well, here I go with the good old stream of co...</td>\n",
              "      <td>y</td>\n",
              "      <td>n</td>\n",
              "      <td>y</td>\n",
              "      <td>n</td>\n",
              "      <td>y</td>\n",
              "    </tr>\n",
              "  </tbody>\n",
              "</table>\n",
              "</div>"
            ],
            "text/plain": [
              "           #AUTHID                                               TEXT cEXT  \\\n",
              "0  1997_504851.txt  Well, right now I just woke up from a mid-day ...    n   \n",
              "1  1997_605191.txt  Well, here we go with the stream of consciousn...    n   \n",
              "2  1997_687252.txt  An open keyboard and buttons to push. The thin...    n   \n",
              "3  1997_568848.txt  I can't believe it!  It's really happening!  M...    y   \n",
              "4  1997_688160.txt  Well, here I go with the good old stream of co...    y   \n",
              "\n",
              "  cNEU cAGR cCON cOPN  \n",
              "0    y    y    n    y  \n",
              "1    n    y    n    n  \n",
              "2    y    n    y    y  \n",
              "3    n    y    y    n  \n",
              "4    n    y    n    y  "
            ]
          },
          "execution_count": 2,
          "metadata": {},
          "output_type": "execute_result"
        }
      ],
      "source": [
        "df = pd.read_csv(\"essays.csv\",sep=\",\", encoding='cp1252')\n",
        "df.head()\n",
        "\n"
      ]
    },
    {
      "cell_type": "markdown",
      "metadata": {},
      "source": [
        "BERT Classification\n"
      ]
    },
    {
      "cell_type": "code",
      "execution_count": 3,
      "metadata": {
        "colab": {
          "base_uri": "https://localhost:8080/",
          "height": 206
        },
        "id": "OnA23lGc7phr",
        "outputId": "c84956e3-5bc1-49ca-da67-4ac810a51c83"
      },
      "outputs": [
        {
          "data": {
            "text/html": [
              "<div>\n",
              "<style scoped>\n",
              "    .dataframe tbody tr th:only-of-type {\n",
              "        vertical-align: middle;\n",
              "    }\n",
              "\n",
              "    .dataframe tbody tr th {\n",
              "        vertical-align: top;\n",
              "    }\n",
              "\n",
              "    .dataframe thead th {\n",
              "        text-align: right;\n",
              "    }\n",
              "</style>\n",
              "<table border=\"1\" class=\"dataframe\">\n",
              "  <thead>\n",
              "    <tr style=\"text-align: right;\">\n",
              "      <th></th>\n",
              "      <th>#AUTHID</th>\n",
              "      <th>TEXT</th>\n",
              "      <th>cEXT</th>\n",
              "      <th>cNEU</th>\n",
              "      <th>cAGR</th>\n",
              "      <th>cCON</th>\n",
              "      <th>cOPN</th>\n",
              "    </tr>\n",
              "  </thead>\n",
              "  <tbody>\n",
              "    <tr>\n",
              "      <th>0</th>\n",
              "      <td>1997_504851.txt</td>\n",
              "      <td>Well, right now I just woke up from a mid-day ...</td>\n",
              "      <td>0</td>\n",
              "      <td>y</td>\n",
              "      <td>y</td>\n",
              "      <td>n</td>\n",
              "      <td>y</td>\n",
              "    </tr>\n",
              "    <tr>\n",
              "      <th>1</th>\n",
              "      <td>1997_605191.txt</td>\n",
              "      <td>Well, here we go with the stream of consciousn...</td>\n",
              "      <td>0</td>\n",
              "      <td>n</td>\n",
              "      <td>y</td>\n",
              "      <td>n</td>\n",
              "      <td>n</td>\n",
              "    </tr>\n",
              "    <tr>\n",
              "      <th>2</th>\n",
              "      <td>1997_687252.txt</td>\n",
              "      <td>An open keyboard and buttons to push. The thin...</td>\n",
              "      <td>0</td>\n",
              "      <td>y</td>\n",
              "      <td>n</td>\n",
              "      <td>y</td>\n",
              "      <td>y</td>\n",
              "    </tr>\n",
              "    <tr>\n",
              "      <th>3</th>\n",
              "      <td>1997_568848.txt</td>\n",
              "      <td>I can't believe it! It's really happening! My ...</td>\n",
              "      <td>1</td>\n",
              "      <td>n</td>\n",
              "      <td>y</td>\n",
              "      <td>y</td>\n",
              "      <td>n</td>\n",
              "    </tr>\n",
              "    <tr>\n",
              "      <th>4</th>\n",
              "      <td>1997_688160.txt</td>\n",
              "      <td>Well, here I go with the good old stream of co...</td>\n",
              "      <td>1</td>\n",
              "      <td>n</td>\n",
              "      <td>y</td>\n",
              "      <td>n</td>\n",
              "      <td>y</td>\n",
              "    </tr>\n",
              "  </tbody>\n",
              "</table>\n",
              "</div>"
            ],
            "text/plain": [
              "           #AUTHID                                               TEXT  cEXT  \\\n",
              "0  1997_504851.txt  Well, right now I just woke up from a mid-day ...     0   \n",
              "1  1997_605191.txt  Well, here we go with the stream of consciousn...     0   \n",
              "2  1997_687252.txt  An open keyboard and buttons to push. The thin...     0   \n",
              "3  1997_568848.txt  I can't believe it! It's really happening! My ...     1   \n",
              "4  1997_688160.txt  Well, here I go with the good old stream of co...     1   \n",
              "\n",
              "  cNEU cAGR cCON cOPN  \n",
              "0    y    y    n    y  \n",
              "1    n    y    n    n  \n",
              "2    y    n    y    y  \n",
              "3    n    y    y    n  \n",
              "4    n    y    n    y  "
            ]
          },
          "execution_count": 3,
          "metadata": {},
          "output_type": "execute_result"
        }
      ],
      "source": [
        "\n",
        "import preprocessor as p\n",
        "df['TEXT'] = df.apply(lambda row : p.clean(str(row['TEXT'])), axis = 1)\n",
        "df['cEXT'] = df['cEXT'].map(\n",
        "                   {'y':1 ,'n':0})\n",
        "df.head()"
      ]
    },
    {
      "cell_type": "code",
      "execution_count": 4,
      "metadata": {
        "id": "tsxjoapeoV2J"
      },
      "outputs": [],
      "source": [
        "from sklearn.model_selection import train_test_split\n",
        "x = df['TEXT']\n",
        "y = df['cEXT']\n",
        "X_train, X_test, y_train, y_test = train_test_split(x, y, train_size = 0.7,random_state = 42)"
      ]
    },
    {
      "cell_type": "code",
      "execution_count": 6,
      "metadata": {
        "id": "u3IBtO4doXid"
      },
      "outputs": [],
      "source": [
        "import tensorflow_text as text"
      ]
    },
    {
      "cell_type": "code",
      "execution_count": 7,
      "metadata": {
        "id": "sHYVg4p8oZsA"
      },
      "outputs": [],
      "source": [
        "import tensorflow_hub as hub"
      ]
    },
    {
      "cell_type": "code",
      "execution_count": 17,
      "metadata": {
        "id": "XNjvaoTbsl1x"
      },
      "outputs": [],
      "source": [
        "bert_preprocess = hub.KerasLayer(\"https://tfhub.dev/tensorflow/bert_en_uncased_preprocess/3\")\n",
        "bert_encoder = hub.KerasLayer(\"https://tfhub.dev/tensorflow/bert_en_uncased_L-12_H-768_A-12/4\")\n"
      ]
    },
    {
      "cell_type": "code",
      "execution_count": 10,
      "metadata": {
        "id": "o2AU5NY-swwH"
      },
      "outputs": [
        {
          "ename": "NameError",
          "evalue": "name 'bert_encoder' is not defined",
          "output_type": "error",
          "traceback": [
            "\u001b[1;31m---------------------------------------------------------------------------\u001b[0m",
            "\u001b[1;31mNameError\u001b[0m                                 Traceback (most recent call last)",
            "Cell \u001b[1;32mIn [10], line 3\u001b[0m\n\u001b[0;32m      1\u001b[0m text_input \u001b[39m=\u001b[39m tf\u001b[39m.\u001b[39mkeras\u001b[39m.\u001b[39mlayers\u001b[39m.\u001b[39mInput(shape\u001b[39m=\u001b[39m(), dtype\u001b[39m=\u001b[39mtf\u001b[39m.\u001b[39mstring, name\u001b[39m=\u001b[39m\u001b[39m'\u001b[39m\u001b[39mtext\u001b[39m\u001b[39m'\u001b[39m)\n\u001b[0;32m      2\u001b[0m preprocessed_text \u001b[39m=\u001b[39m bert_preprocess(text_input)\n\u001b[1;32m----> 3\u001b[0m outputs \u001b[39m=\u001b[39m bert_encoder(preprocessed_text)\n",
            "\u001b[1;31mNameError\u001b[0m: name 'bert_encoder' is not defined"
          ]
        }
      ],
      "source": [
        "text_input = tf.keras.layers.Input(shape=(), dtype=tf.string, name='text')\n",
        "preprocessed_text = bert_preprocess(text_input)\n",
        "outputs = bert_encoder(preprocessed_text)"
      ]
    },
    {
      "cell_type": "code",
      "execution_count": 48,
      "metadata": {
        "id": "ZxG0Z3qytDLH"
      },
      "outputs": [],
      "source": [
        "l = tf.keras.layers.Dropout(0.08, name=\"dropout\")(outputs['pooled_output'])\n",
        "l = tf.keras.layers.Dense(1, activation='sigmoid', name=\"output\")(l)"
      ]
    },
    {
      "cell_type": "code",
      "execution_count": 49,
      "metadata": {
        "id": "EomF_A2mtIr6"
      },
      "outputs": [],
      "source": [
        "model = tf.keras.Model(inputs=[text_input], outputs = [l])"
      ]
    },
    {
      "cell_type": "code",
      "execution_count": 50,
      "metadata": {
        "colab": {
          "base_uri": "https://localhost:8080/"
        },
        "id": "xhM-UXV3tOk2",
        "outputId": "f413f91f-e57f-42aa-c8ad-0fbaf320b46a"
      },
      "outputs": [
        {
          "name": "stdout",
          "output_type": "stream",
          "text": [
            "Model: \"model_2\"\n",
            "__________________________________________________________________________________________________\n",
            " Layer (type)                   Output Shape         Param #     Connected to                     \n",
            "==================================================================================================\n",
            " text (InputLayer)              [(None,)]            0           []                               \n",
            "                                                                                                  \n",
            " keras_layer_4 (KerasLayer)     {'input_mask': (Non  0           ['text[0][0]']                   \n",
            "                                e, 128),                                                          \n",
            "                                 'input_type_ids':                                                \n",
            "                                (None, 128),                                                      \n",
            "                                 'input_word_ids':                                                \n",
            "                                (None, 128)}                                                      \n",
            "                                                                                                  \n",
            " keras_layer_5 (KerasLayer)     {'pooled_output': (  109482241   ['keras_layer_4[0][0]',          \n",
            "                                None, 768),                       'keras_layer_4[0][1]',          \n",
            "                                 'sequence_output':               'keras_layer_4[0][2]']          \n",
            "                                 (None, 128, 768),                                                \n",
            "                                 'encoder_outputs':                                               \n",
            "                                 [(None, 128, 768),                                               \n",
            "                                 (None, 128, 768),                                                \n",
            "                                 (None, 128, 768),                                                \n",
            "                                 (None, 128, 768),                                                \n",
            "                                 (None, 128, 768),                                                \n",
            "                                 (None, 128, 768),                                                \n",
            "                                 (None, 128, 768),                                                \n",
            "                                 (None, 128, 768),                                                \n",
            "                                 (None, 128, 768),                                                \n",
            "                                 (None, 128, 768),                                                \n",
            "                                 (None, 128, 768),                                                \n",
            "                                 (None, 128, 768)],                                               \n",
            "                                 'default': (None,                                                \n",
            "                                768)}                                                             \n",
            "                                                                                                  \n",
            " dropout (Dropout)              (None, 768)          0           ['keras_layer_5[0][13]']         \n",
            "                                                                                                  \n",
            " output (Dense)                 (None, 1)            769         ['dropout[0][0]']                \n",
            "                                                                                                  \n",
            "==================================================================================================\n",
            "Total params: 109,483,010\n",
            "Trainable params: 769\n",
            "Non-trainable params: 109,482,241\n",
            "__________________________________________________________________________________________________\n"
          ]
        }
      ],
      "source": [
        "model.summary()"
      ]
    },
    {
      "cell_type": "code",
      "execution_count": 51,
      "metadata": {
        "id": "WQ_bA8SatUd_"
      },
      "outputs": [],
      "source": [
        "\n",
        "METRICS = [\n",
        "      tf.keras.metrics.BinaryAccuracy(name='accuracy'),\n",
        "      tf.keras.metrics.Precision(name='precision'),\n",
        "      tf.keras.metrics.Recall(name='recall')\n",
        "]\n",
        "\n",
        "model.compile(optimizer='adam',\n",
        " loss='binary_crossentropy',\n",
        " metrics=METRICS)"
      ]
    },
    {
      "cell_type": "code",
      "execution_count": 52,
      "metadata": {
        "colab": {
          "base_uri": "https://localhost:8080/"
        },
        "id": "mG9tV0rZtwma",
        "outputId": "b4417729-e911-4560-d8cb-893598cebc03"
      },
      "outputs": [
        {
          "name": "stdout",
          "output_type": "stream",
          "text": [
            "Epoch 1/10\n",
            "54/54 [==============================] - 248s 5s/step - loss: 0.6986 - accuracy: 0.5252 - precision: 0.5322 - recall: 0.5540\n",
            "Epoch 2/10\n",
            "54/54 [==============================] - 241s 4s/step - loss: 0.7019 - accuracy: 0.5223 - precision: 0.5293 - recall: 0.5552\n",
            "Epoch 3/10\n",
            "54/54 [==============================] - 245s 5s/step - loss: 0.7029 - accuracy: 0.5038 - precision: 0.5109 - recall: 0.5870\n",
            "Epoch 4/10\n",
            "54/54 [==============================] - 252s 5s/step - loss: 0.6954 - accuracy: 0.5333 - precision: 0.5412 - recall: 0.5449\n",
            "Epoch 5/10\n",
            "54/54 [==============================] - 232s 4s/step - loss: 0.6978 - accuracy: 0.5304 - precision: 0.5359 - recall: 0.5768\n",
            "Epoch 6/10\n",
            "54/54 [==============================] - 213s 4s/step - loss: 0.6959 - accuracy: 0.5194 - precision: 0.5261 - recall: 0.5620\n",
            "Epoch 7/10\n",
            "54/54 [==============================] - 212s 4s/step - loss: 0.6873 - accuracy: 0.5437 - precision: 0.5477 - recall: 0.5939\n",
            "Epoch 8/10\n",
            "54/54 [==============================] - 215s 4s/step - loss: 0.7040 - accuracy: 0.5188 - precision: 0.5265 - recall: 0.5415\n",
            "Epoch 9/10\n",
            "54/54 [==============================] - 230s 4s/step - loss: 0.6871 - accuracy: 0.5507 - precision: 0.5536 - recall: 0.6052\n",
            "Epoch 10/10\n",
            "54/54 [==============================] - 232s 4s/step - loss: 0.6910 - accuracy: 0.5426 - precision: 0.5473 - recall: 0.5859\n"
          ]
        },
        {
          "data": {
            "text/plain": [
              "<keras.callbacks.History at 0x7f53c39def10>"
            ]
          },
          "execution_count": 52,
          "metadata": {},
          "output_type": "execute_result"
        }
      ],
      "source": [
        "model.fit(X_train, y_train, epochs=10)"
      ]
    },
    {
      "cell_type": "code",
      "execution_count": 53,
      "metadata": {
        "colab": {
          "base_uri": "https://localhost:8080/"
        },
        "id": "TGEWoSrA0Oco",
        "outputId": "a35bc473-a785-48c1-dae9-a78e0668f7b4"
      },
      "outputs": [
        {
          "name": "stdout",
          "output_type": "stream",
          "text": [
            "24/24 [==============================] - 102s 4s/step\n",
            "0.4669365721997301\n",
            "0.5185185185185185\n",
            "0.10552763819095477\n",
            "0.39077340005037087\n"
          ]
        }
      ],
      "source": [
        "pred = model.predict(X_test)\n",
        "pred = np.round(pred).astype(int)\n",
        "from sklearn import metrics\n",
        "acc_score = metrics.accuracy_score(y_test, pred)\n",
        "precision = metrics.precision_score(y_test, pred,zero_division=1)\n",
        "recall = metrics.recall_score(y_test, pred,zero_division=1)\n",
        "f1_score = metrics.f1_score(y_test, pred, average='macro',zero_division=1)\n",
        "print(acc_score)\n",
        "print(precision)\n",
        "print(recall)\n",
        "print(f1_score)"
      ]
    }
  ],
  "metadata": {
    "accelerator": "GPU",
    "colab": {
      "collapsed_sections": [],
      "name": "L180988_A3.ipynb",
      "provenance": []
    },
    "kernelspec": {
      "display_name": "Python 3.10.7 64-bit",
      "language": "python",
      "name": "python3"
    },
    "language_info": {
      "codemirror_mode": {
        "name": "ipython",
        "version": 3
      },
      "file_extension": ".py",
      "mimetype": "text/x-python",
      "name": "python",
      "nbconvert_exporter": "python",
      "pygments_lexer": "ipython3",
      "version": "3.10.7"
    },
    "orig_nbformat": 4,
    "vscode": {
      "interpreter": {
        "hash": "1d35f20c3ce794eafde276395a23bdbeea2e60df571afec2c81189d57f627177"
      }
    }
  },
  "nbformat": 4,
  "nbformat_minor": 0
}
