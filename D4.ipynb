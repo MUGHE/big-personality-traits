{
  "cells": [
    {
      "cell_type": "markdown",
      "metadata": {
        "id": "yIMkm8SN5DL7"
      },
      "source": [
        "## Data Gathering"
      ]
    },
    {
      "cell_type": "code",
      "execution_count": 17,
      "metadata": {
        "id": "hZ3zC-ZoP_3j"
      },
      "outputs": [],
      "source": [
        "import pandas as pd\n",
        "import numpy as np\n",
        "import tensorflow as tf"
      ]
    },
    {
      "cell_type": "code",
      "execution_count": 18,
      "metadata": {
        "id": "rOuXnGu2XKAW"
      },
      "outputs": [
        {
          "data": {
            "text/html": [
              "<div>\n",
              "<style scoped>\n",
              "    .dataframe tbody tr th:only-of-type {\n",
              "        vertical-align: middle;\n",
              "    }\n",
              "\n",
              "    .dataframe tbody tr th {\n",
              "        vertical-align: top;\n",
              "    }\n",
              "\n",
              "    .dataframe thead th {\n",
              "        text-align: right;\n",
              "    }\n",
              "</style>\n",
              "<table border=\"1\" class=\"dataframe\">\n",
              "  <thead>\n",
              "    <tr style=\"text-align: right;\">\n",
              "      <th></th>\n",
              "      <th>#AUTHID</th>\n",
              "      <th>TEXT</th>\n",
              "      <th>cEXT</th>\n",
              "      <th>cNEU</th>\n",
              "      <th>cAGR</th>\n",
              "      <th>cCON</th>\n",
              "      <th>cOPN</th>\n",
              "    </tr>\n",
              "  </thead>\n",
              "  <tbody>\n",
              "    <tr>\n",
              "      <th>0</th>\n",
              "      <td>1997_504851.txt</td>\n",
              "      <td>Well, right now I just woke up from a mid-day ...</td>\n",
              "      <td>n</td>\n",
              "      <td>y</td>\n",
              "      <td>y</td>\n",
              "      <td>n</td>\n",
              "      <td>y</td>\n",
              "    </tr>\n",
              "    <tr>\n",
              "      <th>1</th>\n",
              "      <td>1997_605191.txt</td>\n",
              "      <td>Well, here we go with the stream of consciousn...</td>\n",
              "      <td>n</td>\n",
              "      <td>n</td>\n",
              "      <td>y</td>\n",
              "      <td>n</td>\n",
              "      <td>n</td>\n",
              "    </tr>\n",
              "    <tr>\n",
              "      <th>2</th>\n",
              "      <td>1997_687252.txt</td>\n",
              "      <td>An open keyboard and buttons to push. The thin...</td>\n",
              "      <td>n</td>\n",
              "      <td>y</td>\n",
              "      <td>n</td>\n",
              "      <td>y</td>\n",
              "      <td>y</td>\n",
              "    </tr>\n",
              "    <tr>\n",
              "      <th>3</th>\n",
              "      <td>1997_568848.txt</td>\n",
              "      <td>I can't believe it!  It's really happening!  M...</td>\n",
              "      <td>y</td>\n",
              "      <td>n</td>\n",
              "      <td>y</td>\n",
              "      <td>y</td>\n",
              "      <td>n</td>\n",
              "    </tr>\n",
              "    <tr>\n",
              "      <th>4</th>\n",
              "      <td>1997_688160.txt</td>\n",
              "      <td>Well, here I go with the good old stream of co...</td>\n",
              "      <td>y</td>\n",
              "      <td>n</td>\n",
              "      <td>y</td>\n",
              "      <td>n</td>\n",
              "      <td>y</td>\n",
              "    </tr>\n",
              "  </tbody>\n",
              "</table>\n",
              "</div>"
            ],
            "text/plain": [
              "           #AUTHID                                               TEXT cEXT  \\\n",
              "0  1997_504851.txt  Well, right now I just woke up from a mid-day ...    n   \n",
              "1  1997_605191.txt  Well, here we go with the stream of consciousn...    n   \n",
              "2  1997_687252.txt  An open keyboard and buttons to push. The thin...    n   \n",
              "3  1997_568848.txt  I can't believe it!  It's really happening!  M...    y   \n",
              "4  1997_688160.txt  Well, here I go with the good old stream of co...    y   \n",
              "\n",
              "  cNEU cAGR cCON cOPN  \n",
              "0    y    y    n    y  \n",
              "1    n    y    n    n  \n",
              "2    y    n    y    y  \n",
              "3    n    y    y    n  \n",
              "4    n    y    n    y  "
            ]
          },
          "execution_count": 18,
          "metadata": {},
          "output_type": "execute_result"
        }
      ],
      "source": [
        "sd = pd.read_csv(\"essays.csv\",sep=\",\", encoding='cp1252')\n",
        "sd.head()"
      ]
    },
    {
      "cell_type": "code",
      "execution_count": 19,
      "metadata": {
        "colab": {
          "base_uri": "https://localhost:8080/",
          "height": 472
        },
        "id": "fN9FX7xfXWq2",
        "outputId": "65e4d4d2-86e5-4305-d234-29d8c17bfbaf"
      },
      "outputs": [
        {
          "data": {
            "text/html": [
              "<div>\n",
              "<style scoped>\n",
              "    .dataframe tbody tr th:only-of-type {\n",
              "        vertical-align: middle;\n",
              "    }\n",
              "\n",
              "    .dataframe tbody tr th {\n",
              "        vertical-align: top;\n",
              "    }\n",
              "\n",
              "    .dataframe thead th {\n",
              "        text-align: right;\n",
              "    }\n",
              "</style>\n",
              "<table border=\"1\" class=\"dataframe\">\n",
              "  <thead>\n",
              "    <tr style=\"text-align: right;\">\n",
              "      <th></th>\n",
              "      <th>#AUTHID</th>\n",
              "      <th>TEXT</th>\n",
              "      <th>cEXT</th>\n",
              "      <th>cNEU</th>\n",
              "      <th>cAGR</th>\n",
              "      <th>cCON</th>\n",
              "      <th>cOPN</th>\n",
              "    </tr>\n",
              "  </thead>\n",
              "  <tbody>\n",
              "    <tr>\n",
              "      <th>0</th>\n",
              "      <td>1997_504851.txt</td>\n",
              "      <td>Well, right now I just woke up from a mid-day ...</td>\n",
              "      <td>n</td>\n",
              "      <td>y</td>\n",
              "      <td>y</td>\n",
              "      <td>n</td>\n",
              "      <td>y</td>\n",
              "    </tr>\n",
              "    <tr>\n",
              "      <th>1</th>\n",
              "      <td>1997_605191.txt</td>\n",
              "      <td>Well, here we go with the stream of consciousn...</td>\n",
              "      <td>n</td>\n",
              "      <td>n</td>\n",
              "      <td>y</td>\n",
              "      <td>n</td>\n",
              "      <td>n</td>\n",
              "    </tr>\n",
              "    <tr>\n",
              "      <th>2</th>\n",
              "      <td>1997_687252.txt</td>\n",
              "      <td>An open keyboard and buttons to push. The thin...</td>\n",
              "      <td>n</td>\n",
              "      <td>y</td>\n",
              "      <td>n</td>\n",
              "      <td>y</td>\n",
              "      <td>y</td>\n",
              "    </tr>\n",
              "    <tr>\n",
              "      <th>3</th>\n",
              "      <td>1997_568848.txt</td>\n",
              "      <td>I can't believe it!  It's really happening!  M...</td>\n",
              "      <td>y</td>\n",
              "      <td>n</td>\n",
              "      <td>y</td>\n",
              "      <td>y</td>\n",
              "      <td>n</td>\n",
              "    </tr>\n",
              "    <tr>\n",
              "      <th>4</th>\n",
              "      <td>1997_688160.txt</td>\n",
              "      <td>Well, here I go with the good old stream of co...</td>\n",
              "      <td>y</td>\n",
              "      <td>n</td>\n",
              "      <td>y</td>\n",
              "      <td>n</td>\n",
              "      <td>y</td>\n",
              "    </tr>\n",
              "  </tbody>\n",
              "</table>\n",
              "</div>"
            ],
            "text/plain": [
              "           #AUTHID                                               TEXT cEXT  \\\n",
              "0  1997_504851.txt  Well, right now I just woke up from a mid-day ...    n   \n",
              "1  1997_605191.txt  Well, here we go with the stream of consciousn...    n   \n",
              "2  1997_687252.txt  An open keyboard and buttons to push. The thin...    n   \n",
              "3  1997_568848.txt  I can't believe it!  It's really happening!  M...    y   \n",
              "4  1997_688160.txt  Well, here I go with the good old stream of co...    y   \n",
              "\n",
              "  cNEU cAGR cCON cOPN  \n",
              "0    y    y    n    y  \n",
              "1    n    y    n    n  \n",
              "2    y    n    y    y  \n",
              "3    n    y    y    n  \n",
              "4    n    y    n    y  "
            ]
          },
          "execution_count": 19,
          "metadata": {},
          "output_type": "execute_result"
        }
      ],
      "source": [
        "sd.head()"
      ]
    },
    {
      "cell_type": "code",
      "execution_count": 20,
      "metadata": {
        "colab": {
          "base_uri": "https://localhost:8080/",
          "height": 361
        },
        "id": "xmtnEeXCXZNk",
        "outputId": "8b8b6ad4-5a3b-4122-a5c9-f7983082345e"
      },
      "outputs": [
        {
          "data": {
            "text/html": [
              "<div>\n",
              "<style scoped>\n",
              "    .dataframe tbody tr th:only-of-type {\n",
              "        vertical-align: middle;\n",
              "    }\n",
              "\n",
              "    .dataframe tbody tr th {\n",
              "        vertical-align: top;\n",
              "    }\n",
              "\n",
              "    .dataframe thead th {\n",
              "        text-align: right;\n",
              "    }\n",
              "</style>\n",
              "<table border=\"1\" class=\"dataframe\">\n",
              "  <thead>\n",
              "    <tr style=\"text-align: right;\">\n",
              "      <th></th>\n",
              "      <th>#AUTHID</th>\n",
              "      <th>TEXT</th>\n",
              "      <th>cEXT</th>\n",
              "      <th>cNEU</th>\n",
              "      <th>cAGR</th>\n",
              "      <th>cCON</th>\n",
              "      <th>cOPN</th>\n",
              "    </tr>\n",
              "  </thead>\n",
              "  <tbody>\n",
              "    <tr>\n",
              "      <th>count</th>\n",
              "      <td>2468</td>\n",
              "      <td>2468</td>\n",
              "      <td>2468</td>\n",
              "      <td>2468</td>\n",
              "      <td>2468</td>\n",
              "      <td>2468</td>\n",
              "      <td>2468</td>\n",
              "    </tr>\n",
              "    <tr>\n",
              "      <th>unique</th>\n",
              "      <td>2468</td>\n",
              "      <td>2468</td>\n",
              "      <td>2</td>\n",
              "      <td>2</td>\n",
              "      <td>2</td>\n",
              "      <td>2</td>\n",
              "      <td>2</td>\n",
              "    </tr>\n",
              "    <tr>\n",
              "      <th>top</th>\n",
              "      <td>2003_216.txt</td>\n",
              "      <td>It was very frustrating to get on to the web s...</td>\n",
              "      <td>y</td>\n",
              "      <td>n</td>\n",
              "      <td>y</td>\n",
              "      <td>y</td>\n",
              "      <td>y</td>\n",
              "    </tr>\n",
              "    <tr>\n",
              "      <th>freq</th>\n",
              "      <td>1</td>\n",
              "      <td>1</td>\n",
              "      <td>1277</td>\n",
              "      <td>1235</td>\n",
              "      <td>1310</td>\n",
              "      <td>1254</td>\n",
              "      <td>1272</td>\n",
              "    </tr>\n",
              "  </tbody>\n",
              "</table>\n",
              "</div>"
            ],
            "text/plain": [
              "             #AUTHID                                               TEXT  cEXT  \\\n",
              "count           2468                                               2468  2468   \n",
              "unique          2468                                               2468     2   \n",
              "top     2003_216.txt  It was very frustrating to get on to the web s...     y   \n",
              "freq               1                                                  1  1277   \n",
              "\n",
              "        cNEU  cAGR  cCON  cOPN  \n",
              "count   2468  2468  2468  2468  \n",
              "unique     2     2     2     2  \n",
              "top        n     y     y     y  \n",
              "freq    1235  1310  1254  1272  "
            ]
          },
          "execution_count": 20,
          "metadata": {},
          "output_type": "execute_result"
        }
      ],
      "source": [
        "sd.describe()"
      ]
    },
    {
      "cell_type": "markdown",
      "metadata": {
        "id": "86quLqjN5Gy9"
      },
      "source": [
        "## Preprocessing"
      ]
    },
    {
      "cell_type": "code",
      "execution_count": 21,
      "metadata": {
        "colab": {
          "base_uri": "https://localhost:8080/"
        },
        "id": "clSu51U4r_i1",
        "outputId": "ea26aefe-2999-4841-a2bc-3a4a0e04a284"
      },
      "outputs": [
        {
          "data": {
            "text/plain": [
              "array([], dtype=int64)"
            ]
          },
          "execution_count": 21,
          "metadata": {},
          "output_type": "execute_result"
        }
      ],
      "source": [
        "sd['TEXT'].isnull().values.nonzero()[0]"
      ]
    },
    {
      "cell_type": "code",
      "execution_count": 22,
      "metadata": {
        "id": "sVJ513nvsXY9"
      },
      "outputs": [],
      "source": [
        "sd['TEXT'].fillna('.',inplace=True)"
      ]
    },
    {
      "cell_type": "code",
      "execution_count": 23,
      "metadata": {},
      "outputs": [],
      "source": [
        "from keras.preprocessing.text import Tokenizer\n",
        "from keras_preprocessing import sequence\n",
        "t = Tokenizer(split = ' ', lower=True)\n",
        "#Fit the Tokenizer on text\n",
        "t.fit_on_texts(sd['TEXT'].values)\n",
        "#Converting text to sequences\n",
        "X = t.texts_to_sequences(sd['TEXT'].values)\n",
        "#Padding the sequences\n",
        "X = sequence.pad_sequences(X)"
      ]
    },
    {
      "cell_type": "code",
      "execution_count": 24,
      "metadata": {},
      "outputs": [
        {
          "data": {
            "text/plain": [
              "31268"
            ]
          },
          "execution_count": 24,
          "metadata": {},
          "output_type": "execute_result"
        }
      ],
      "source": [
        "np.amax(X)"
      ]
    },
    {
      "cell_type": "code",
      "execution_count": 25,
      "metadata": {},
      "outputs": [
        {
          "data": {
            "text/plain": [
              "array([[    0,     0,     0, ...,    17,   511,  1798],\n",
              "       [    0,     0,     0, ...,  1564, 23748,   577],\n",
              "       [    0,     0,     0, ...,   439,    45,   688],\n",
              "       ...,\n",
              "       [    0,     0,     0, ...,     9,   177,   406],\n",
              "       [    0,     0,     0, ...,   462,    16,    11],\n",
              "       [    0,     0,     0, ...,   107,   720,    10]], dtype=int32)"
            ]
          },
          "execution_count": 25,
          "metadata": {},
          "output_type": "execute_result"
        }
      ],
      "source": [
        "from sklearn.model_selection import train_test_split\n",
        "Y = pd.get_dummies(sd['cEXT']).values\n",
        "X_train, X_test, y_train, y_test = train_test_split(X, Y, test_size=0.25, random_state=42)\n",
        "X_train"
      ]
    },
    {
      "cell_type": "code",
      "execution_count": 26,
      "metadata": {},
      "outputs": [],
      "source": [
        "# from tensorflow.keras.utils import to_categorical\n",
        "# Ymc = to_categorical(sd.loc[sd['sarcastic']==1][['sarcasm', 'irony', 'satire', 'understatement', 'overstatement', 'rhetorical_question']])\n",
        "# Xm_train, Xm_test, ymc_train, ymc_test = train_test_split(Xm, Ymc, test_size=0.25, random_state=42)"
      ]
    },
    {
      "cell_type": "markdown",
      "metadata": {},
      "source": [
        "# Metrics"
      ]
    },
    {
      "cell_type": "code",
      "execution_count": 27,
      "metadata": {},
      "outputs": [],
      "source": [
        "def call_predictions(predictions_multi, y_test):\n",
        "    prediction_list = []\n",
        "    real_list = []\n",
        "    print(predictions_multi, y_test)\n",
        "    for i in range(len(predictions_multi)):\n",
        "        max = np.argmax(predictions_multi[i])\n",
        "        prediction_list.append(max)\n",
        "    predictions = np.array(prediction_list)\n",
        "\n",
        "    for i in range(len(y_test)):\n",
        "        max = np.argmax(y_test[i])\n",
        "        real_list.append(max)\n",
        "    real = np.array(real_list)\n",
        "  \n",
        "    return real, predictions"
      ]
    },
    {
      "cell_type": "code",
      "execution_count": 28,
      "metadata": {},
      "outputs": [],
      "source": [
        "from sklearn.metrics import confusion_matrix\n",
        "from sklearn.metrics import precision_score\n",
        "from sklearn.metrics import recall_score\n",
        "from sklearn.metrics import f1_score\n",
        "from sklearn.metrics import accuracy_score\n",
        "\n",
        "def binary_scores(real, predictions):\n",
        "    matrix = confusion_matrix(real, predictions)\n",
        "    print(\"Accuracy \",accuracy_score(real, predictions))\n",
        "    tn, fp, fn, tp = matrix.ravel()\n",
        "    print(\"tn \", tn,\" fp \", fp , \" fn \", fn, \" tp \", tp)\n",
        "    print(\"Precision \",precision_score(real, predictions, zero_division=1))\n",
        "    print(\"Recall \",recall_score(real, predictions, zero_division=1))  \n",
        "    print(\"F1 Score \",f1_score(real, predictions, zero_division=1))\n",
        "    print('-' * 70)\n",
        "    print()\n",
        "\n",
        "def multi_scores(real, predictions):\n",
        "    matrix = confusion_matrix(real, predictions)\n",
        "    print(\"accuracy_score: \", accuracy_score(real, predictions))\n",
        "    tn, fp, fn, tp = matrix.ravel()\n",
        "    print(\"tn \", tn,\" fp \", fp , \" fn \", fn, \" tp \", tp)\n",
        "    print(\"micro average scores:\")\n",
        "    print(\"precision_score: \", precision_score(real, predictions, average='micro', zero_division=1))\n",
        "    print(\"recall_score: \", recall_score(real, predictions, average='micro'))\n",
        "    print(\"f1_score: \", f1_score(real, predictions, average='micro'))\n",
        "    print(\"macro average scores:\")\n",
        "    print(\"precision_score: \", precision_score(real, predictions, average='macro', zero_division=1))\n",
        "    print(\"recall_score: \", recall_score(real, predictions, average='macro'))\n",
        "    print(\"f1_score: \", f1_score(real, predictions, average='macro'))\n",
        "    print('-' * 70)\n",
        "    print()"
      ]
    },
    {
      "cell_type": "code",
      "execution_count": 29,
      "metadata": {},
      "outputs": [],
      "source": [
        "import tensorflow as tf\n",
        "from tensorflow import keras\n",
        "from keras.layers import *"
      ]
    },
    {
      "cell_type": "markdown",
      "metadata": {},
      "source": [
        "# RNN"
      ]
    },
    {
      "cell_type": "code",
      "execution_count": 30,
      "metadata": {},
      "outputs": [],
      "source": [
        "from keras.layers import *\n",
        "def run_RNN(X_train, X_test, y_test, y_train, drop, no_of_layers, embedding_input_length, output_dimension ):\n",
        "    model=keras.Sequential()\n",
        "    model.add(Embedding(len(t.word_counts)+1, 128, input_length = embedding_input_length))\n",
        "    if no_of_layers == 3:\n",
        "        model.add(SimpleRNN(128, return_sequences=True))\n",
        "        model.add(Dropout(drop))\n",
        "    model.add(SimpleRNN(128, return_sequences=True))\n",
        "    model.add(Dropout(drop))\n",
        "    model.add(SimpleRNN(128))\n",
        "    model.add(Dropout(drop))\n",
        "    model.add(Dense(output_dimension, activation='softmax'))\n",
        "    model.compile(loss='binary_crossentropy', optimizer='adam', metrics=['accuracy'])\n",
        "    batch_size = 32\n",
        "    epochs = 5\n",
        "    model.fit(X_train, y_train, epochs=epochs, batch_size=batch_size)\n",
        "    predictions_double = model.predict(X_test)\n",
        "    real, predictions = call_predictions(predictions_double,y_test)\n",
        "    if output_dimension == 2:\n",
        "        binary_scores(real, predictions)\n",
        "    else:\n",
        "        multi_scores(real, predictions)"
      ]
    },
    {
      "cell_type": "code",
      "execution_count": 34,
      "metadata": {},
      "outputs": [
        {
          "name": "stdout",
          "output_type": "stream",
          "text": [
            "Epoch 1/5\n",
            "58/58 [==============================] - 67s 1s/step - loss: 0.7270 - accuracy: 0.4760\n",
            "Epoch 2/5\n",
            "58/58 [==============================] - 74s 1s/step - loss: 0.7180 - accuracy: 0.5375\n",
            "Epoch 3/5\n",
            "58/58 [==============================] - 73s 1s/step - loss: 0.7424 - accuracy: 0.5057\n",
            "Epoch 4/5\n",
            "58/58 [==============================] - 75s 1s/step - loss: 0.7457 - accuracy: 0.5008\n",
            "Epoch 5/5\n",
            "58/58 [==============================] - 74s 1s/step - loss: 0.7111 - accuracy: 0.5213\n",
            "20/20 [==============================] - 4s 199ms/step\n",
            "[[0.34628984 0.65371007]\n",
            " [0.31081352 0.68918645]\n",
            " [0.41040498 0.589595  ]\n",
            " ...\n",
            " [0.32424608 0.67575395]\n",
            " [0.28210023 0.71789974]\n",
            " [0.34617102 0.65382904]] [[0 1]\n",
            " [1 0]\n",
            " [0 1]\n",
            " ...\n",
            " [0 1]\n",
            " [1 0]\n",
            " [0 1]]\n",
            "Accuracy  0.539708265802269\n",
            "tn  0  fp  284  fn  0  tp  333\n",
            "Precision  0.539708265802269\n",
            "Recall  1.0\n",
            "F1 Score  0.7010526315789474\n",
            "----------------------------------------------------------------------\n",
            "\n"
          ]
        }
      ],
      "source": [
        "run_RNN(X_train, X_test, y_test, y_train, 0.1, 2, X.shape[1], 2)"
      ]
    },
    {
      "cell_type": "code",
      "execution_count": 29,
      "metadata": {},
      "outputs": [
        {
          "name": "stdout",
          "output_type": "stream",
          "text": [
            "Epoch 1/5\n",
            "58/58 [==============================] - 101s 2s/step - loss: 0.8846 - accuracy: 0.4943\n",
            "Epoch 2/5\n",
            "58/58 [==============================] - 102s 2s/step - loss: 0.9060 - accuracy: 0.4986\n",
            "Epoch 3/5\n",
            "58/58 [==============================] - 102s 2s/step - loss: 0.8634 - accuracy: 0.4932\n",
            "Epoch 4/5\n",
            "58/58 [==============================] - 101s 2s/step - loss: 0.8220 - accuracy: 0.5111\n",
            "Epoch 5/5\n",
            "58/58 [==============================] - 101s 2s/step - loss: 0.7975 - accuracy: 0.5030\n",
            "[[0.68586177 0.31413823]\n",
            " [0.6815812  0.31841883]\n",
            " [0.68035376 0.31964627]\n",
            " ...\n",
            " [0.67795324 0.3220467 ]\n",
            " [0.6796351  0.32036495]\n",
            " [0.68579036 0.31420967]] [[0 1]\n",
            " [1 0]\n",
            " [0 1]\n",
            " ...\n",
            " [0 1]\n",
            " [1 0]\n",
            " [0 1]]\n",
            "Accuracy  0.46029173419773095\n",
            "tn  284  fp  0  fn  333  tp  0\n",
            "Precision  1.0\n",
            "Recall  0.0\n",
            "F1 Score  0.0\n",
            "----------------------------------------------------------------------\n",
            "\n"
          ]
        }
      ],
      "source": [
        "run_RNN(X_train, X_test, y_test, y_train, 0.7, 2, X.shape[1], 2)"
      ]
    },
    {
      "cell_type": "markdown",
      "metadata": {},
      "source": [
        "# LSTM"
      ]
    },
    {
      "cell_type": "code",
      "execution_count": 36,
      "metadata": {},
      "outputs": [],
      "source": [
        "def run_LSTM(X_train, X_test, y_test, y_train, drop, no_of_layers, embedding_input_length, output_dimension ):\n",
        "    model=keras.Sequential()\n",
        "\n",
        "    #embedding layer\n",
        "    model.add(Embedding(len(t.word_counts)+1, 128, input_length = embedding_input_length))\n",
        "    \n",
        "    #lstm layers\n",
        "    if no_of_layers == 3:\n",
        "        model.add(LSTM(128, return_sequences=True))\n",
        "        model.add(Dropout(drop))\n",
        "    model.add(LSTM(128, return_sequences=True))\n",
        "    model.add(Dropout(drop))\n",
        "    model.add(LSTM(128))\n",
        "    model.add(Dropout(drop))\n",
        "\n",
        "    #Dense Layer\n",
        "    model.add(Dense(output_dimension, activation='softmax'))\n",
        "\n",
        "    #Adding loss function, optimizer, metrics\n",
        "    model.compile(loss='binary_crossentropy', optimizer='adam', metrics=['accuracy'])\n",
        "    batch_size = 32\n",
        "    epochs = 5\n",
        "\n",
        "    # mc=ModelCheckpoint('best_model.h5', monitor='val_acc', mode='max', save_best_only=True,verbose=1)  \n",
        "\n",
        "\n",
        "    #Training the Model\n",
        "    model.fit(X_train, y_train, epochs=epochs, batch_size=batch_size)\n",
        "    predictions_double = model.predict(X_test)\n",
        "    real, predictions = call_predictions(predictions_double,y_test)\n",
        "    if output_dimension == 2:\n",
        "        binary_scores(real, predictions)\n",
        "    else:\n",
        "        multi_scores(real, predictions)"
      ]
    },
    {
      "cell_type": "code",
      "execution_count": 37,
      "metadata": {},
      "outputs": [
        {
          "name": "stdout",
          "output_type": "stream",
          "text": [
            "Epoch 1/5\n",
            "58/58 [==============================] - 121s 2s/step - loss: 0.6933 - accuracy: 0.5143\n",
            "Epoch 2/5\n",
            "58/58 [==============================] - 124s 2s/step - loss: 0.6297 - accuracy: 0.6704\n",
            "Epoch 3/5\n",
            "58/58 [==============================] - 127s 2s/step - loss: 0.3908 - accuracy: 0.8347\n",
            "Epoch 4/5\n",
            "58/58 [==============================] - 124s 2s/step - loss: 0.2094 - accuracy: 0.9217\n",
            "Epoch 5/5\n",
            "58/58 [==============================] - 123s 2s/step - loss: 0.0925 - accuracy: 0.9708\n",
            "20/20 [==============================] - 14s 664ms/step\n",
            "[[5.17094553e-01 4.82905537e-01]\n",
            " [3.31640661e-01 6.68359339e-01]\n",
            " [9.99995291e-01 4.69449424e-06]\n",
            " ...\n",
            " [8.82149875e-01 1.17850184e-01]\n",
            " [9.99997914e-01 2.05987908e-06]\n",
            " [6.61219747e-05 9.99933839e-01]] [[0 1]\n",
            " [1 0]\n",
            " [0 1]\n",
            " ...\n",
            " [0 1]\n",
            " [1 0]\n",
            " [0 1]]\n",
            "Accuracy  0.5526742301458671\n",
            "tn  136  fp  148  fn  128  tp  205\n",
            "Precision  0.5807365439093485\n",
            "Recall  0.6156156156156156\n",
            "F1 Score  0.5976676384839651\n",
            "----------------------------------------------------------------------\n",
            "\n"
          ]
        }
      ],
      "source": [
        "run_LSTM(X_train, X_test, y_test, y_train, 0.3, 2, X.shape[1], 2)"
      ]
    },
    {
      "cell_type": "markdown",
      "metadata": {},
      "source": [
        "# GRU"
      ]
    },
    {
      "cell_type": "code",
      "execution_count": 31,
      "metadata": {},
      "outputs": [],
      "source": [
        "def run_GRU(X_train, X_test, y_test, y_train, drop, no_of_layers, embedding_input_length, output_dimension ):\n",
        "    model=keras.Sequential()\n",
        "    model.add(Embedding(len(t.word_counts)+1, 128, input_length = embedding_input_length))\n",
        "    if no_of_layers == 3:\n",
        "        model.add(GRU(128, return_sequences=True))\n",
        "        model.add(Dropout(drop))\n",
        "    model.add(GRU(128, return_sequences=True))\n",
        "    model.add(Dropout(drop))\n",
        "    model.add(GRU(128))\n",
        "    model.add(Dropout(drop))\n",
        "    model.add(Dense(output_dimension, activation='softmax'))\n",
        "    model.compile(loss='binary_crossentropy', optimizer='adam', metrics=['accuracy'])\n",
        "    batch_size = 32\n",
        "    epochs = 5\n",
        "    model.fit(X_train, y_train, epochs=epochs, batch_size=batch_size)\n",
        "    predictions_double = model.predict(X_test)\n",
        "    real, predictions = call_predictions(predictions_double,y_test)\n",
        "    if output_dimension == 2:\n",
        "        binary_scores(real, predictions)\n",
        "    else:\n",
        "        multi_scores(real, predictions)"
      ]
    },
    {
      "cell_type": "code",
      "execution_count": 32,
      "metadata": {},
      "outputs": [
        {
          "name": "stdout",
          "output_type": "stream",
          "text": [
            "Epoch 1/5\n",
            "58/58 [==============================] - 122s 2s/step - loss: 0.6938 - accuracy: 0.5008\n",
            "Epoch 2/5\n",
            "58/58 [==============================] - 123s 2s/step - loss: 0.6577 - accuracy: 0.6180\n",
            "Epoch 3/5\n",
            "58/58 [==============================] - 123s 2s/step - loss: 0.4510 - accuracy: 0.8001\n",
            "Epoch 4/5\n",
            "58/58 [==============================] - 126s 2s/step - loss: 0.2691 - accuracy: 0.9022\n",
            "Epoch 5/5\n",
            "58/58 [==============================] - 128s 2s/step - loss: 0.1386 - accuracy: 0.9471\n",
            "20/20 [==============================] - 11s 537ms/step\n",
            "[[6.8774825e-04 9.9931222e-01]\n",
            " [3.9440945e-01 6.0559058e-01]\n",
            " [9.9996489e-01 3.5081517e-05]\n",
            " ...\n",
            " [9.8953044e-01 1.0469511e-02]\n",
            " [9.9375749e-01 6.2425495e-03]\n",
            " [2.1870380e-02 9.7812963e-01]] [[0 1]\n",
            " [1 0]\n",
            " [0 1]\n",
            " ...\n",
            " [0 1]\n",
            " [1 0]\n",
            " [0 1]]\n",
            "Accuracy  0.5413290113452188\n",
            "tn  137  fp  147  fn  136  tp  197\n",
            "Precision  0.5726744186046512\n",
            "Recall  0.5915915915915916\n",
            "F1 Score  0.5819793205317578\n",
            "----------------------------------------------------------------------\n",
            "\n"
          ]
        }
      ],
      "source": [
        "run_GRU(X_train, X_test, y_test, y_train, 0.3, 2, X.shape[1], 2)"
      ]
    }
  ],
  "metadata": {
    "colab": {
      "collapsed_sections": [
        "yIMkm8SN5DL7",
        "86quLqjN5Gy9",
        "E3dQks6q4yX8",
        "GecT4Mmi5MBK",
        "7a1WPw1847GT",
        "HxV7skLlS9ef",
        "CAOnheYlZEiw",
        "Iwfc8w4PyiNU",
        "AFK8UGwJylqc"
      ],
      "name": "18L1129_nlp_a1.ipynb",
      "provenance": []
    },
    "interpreter": {
      "hash": "3c796e7dca208437fb3edf2c2d8613bcf2ad95c2003c07a21be171e8cf200e26"
    },
    "kernelspec": {
      "display_name": "Python 3.7.6 ('base')",
      "language": "python",
      "name": "python3"
    },
    "language_info": {
      "codemirror_mode": {
        "name": "ipython",
        "version": 3
      },
      "file_extension": ".py",
      "mimetype": "text/x-python",
      "name": "python",
      "nbconvert_exporter": "python",
      "pygments_lexer": "ipython3",
      "version": "3.7.6"
    }
  },
  "nbformat": 4,
  "nbformat_minor": 0
}
